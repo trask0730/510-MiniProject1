{
 "cells": [
  {
   "cell_type": "markdown",
   "metadata": {},
   "source": [
    "# Finding Maximum Flow Using Linear Programming\n",
    "We've already seen how we can use the Ford-Fulkerson algorithm to find the maximum flow from St. Petersburg to Moscow.\n",
    "However, it turns out we can also use linear programming to find the maximum cut of a network flow!\n",
    "We do that here.<br>\n",
    "To see a picture of the network we are working with, see the file titled \"network.pdf\"."
   ]
  },
  {
   "cell_type": "code",
   "execution_count": 3,
   "metadata": {},
   "outputs": [],
   "source": [
    "#import necessary packages\n",
    "import numpy as np\n",
    "from scipy.optimize import linprog"
   ]
  },
  {
   "cell_type": "markdown",
   "metadata": {},
   "source": [
    "First create a vector with the labels of the edges. <br>\n",
    "This is mainly for bookkeeping: it helps clarify where constraints ought to go and gives context to the final solution."
   ]
  },
  {
   "cell_type": "code",
   "execution_count": 4,
   "metadata": {},
   "outputs": [],
   "source": [
    "labs = [\"e_sA\", \"e_sB\", \"e_AC\", \"e_AD\", \"e_BC\", \"e_BE\", \"e_CE\", \"e_CG\", \"e_DI\", \"e_EF\", \"e_EG\", \"e_FH\", \"e_GH\", \"e_Ht\", \"e_GI\", \"e_IJ\", \"e_Jt\"]\n",
    "nums = np.arange(17)"
   ]
  },
  {
   "cell_type": "markdown",
   "metadata": {},
   "source": [
    "Now, create our objective function. Since we are maximizing flow, we want to maximize the sum of all our edges that lead into our target.<br>\n",
    "I've labeled my edges in such a way so that our last and fourth from last edges are leading into the target. <br>\n",
    "linprog only solves minimization problems, so we multiply our objective function by -1. <br>"
   ]
  },
  {
   "cell_type": "code",
   "execution_count": 5,
   "metadata": {},
   "outputs": [],
   "source": [
    "obj = [0, 0, 0, 0, 0, 0, 0, 0, 0, 0, 0, 0, 0, -1, 0, 0, -1]\n",
    "#check length of vector since there are so many edges\n",
    "#len(obj)"
   ]
  },
  {
   "cell_type": "markdown",
   "metadata": {},
   "source": [
    "Create constraints that tell us the capacity of each edge"
   ]
  },
  {
   "cell_type": "code",
   "execution_count": 6,
   "metadata": {},
   "outputs": [],
   "source": [
    "lhs_capacity = np.eye(17)\n",
    "rhs_capacity = [3, 3, 4, 2, 2, 2, 3, 4, 5, 3, 4, 4, 3, 5, 3, 3, 1]\n",
    "#len(rhs_capacity)"
   ]
  },
  {
   "cell_type": "markdown",
   "metadata": {},
   "source": [
    "It's nice for visualization to have a matrix with each edge's index, label, and capacity."
   ]
  },
  {
   "cell_type": "code",
   "execution_count": 7,
   "metadata": {},
   "outputs": [
    {
     "name": "stdout",
     "output_type": "stream",
     "text": [
      "[['0' 'e_sA' '3']\n",
      " ['1' 'e_sB' '3']\n",
      " ['2' 'e_AC' '4']\n",
      " ['3' 'e_AD' '2']\n",
      " ['4' 'e_BC' '2']\n",
      " ['5' 'e_BE' '2']\n",
      " ['6' 'e_CE' '3']\n",
      " ['7' 'e_CG' '4']\n",
      " ['8' 'e_DI' '5']\n",
      " ['9' 'e_EF' '3']\n",
      " ['10' 'e_EG' '4']\n",
      " ['11' 'e_FH' '4']\n",
      " ['12' 'e_GH' '3']\n",
      " ['13' 'e_Ht' '5']\n",
      " ['14' 'e_GI' '3']\n",
      " ['15' 'e_IJ' '3']\n",
      " ['16' 'e_Jt' '1']]\n"
     ]
    }
   ],
   "source": [
    "labeled_capacity = np.column_stack([nums, labs, rhs_capacity])\n",
    "print(labeled_capacity)"
   ]
  },
  {
   "cell_type": "markdown",
   "metadata": {},
   "source": [
    "Now, create constraints that make sure flow into each node equals flow out of each node. <br>\n",
    "* For edges leading out of source, we have that flow_in-flow_out = e_Jt + e_Gt. <br>\n",
    "  * This is bad! We want a numerical value on the RHS. Rewrite as flow_in-flow_out - e_Jt - e_Ht = 0. <br>\n",
    "* For edges leading out of target, we have that flow_in-flow_out = -(e_Jt + e_Gt). <br>\n",
    "  * Again, this is bad! We want a numerical value on the RHS. Rewrite as flow_in-flow_out + e_Jt + e_Ht = 0. "
   ]
  },
  {
   "cell_type": "code",
   "execution_count": 8,
   "metadata": {},
   "outputs": [],
   "source": [
    "lhs_balance = [[1, 1, 0, 0, 0, 0, 0, 0, 0, 0, 0, 0, 0, -1, 0, 0, -1], #flow leaving start\n",
    "               [-1, 0, 1, 1, 0, 0, 0, 0, 0, 0, 0, 0, 0, 0, 0, 0, 0], #flow in/out of A\n",
    "               [0, -1, 0, 0, 1, 1, 0, 0, 0, 0, 0, 0, 0, 0, 0, 0, 0], #flow in/out of B\n",
    "               [0, 0, -1, 0, -1, 0, 1, 1, 0, 0, 0, 0, 0, 0, 0, 0, 0], #flow in/out of C\n",
    "               [0, 0, 0, -1, 0, 0, 0, 0, 1, 0, 0, 0, 0, 0, 0, 0, 0], #flow in/out of D\n",
    "               [0, 0, 0, 0, 0, -1, -1, 0, 0, 1, 1, 0, 0, 0, 0, 0, 0], #flow in/out of E\n",
    "               [0, 0, 0, 0, 0, 0, 0, 0, 0, -1, 0, 1, 0, 0, 0, 0, 0], #flow in/out of F\n",
    "               [0, 0, 0, 0, 0, 0, 0, -1, 0, 0, -1, 0, 1, 0, 1, 0, 0], #flow in/out of G\n",
    "               [0, 0, 0, 0, 0, 0, 0, 0, 0, 0, 0, -1, -1, 1, 0, 0, 0], #flow in/out of H\n",
    "               [0, 0, 0, 0, 0, 0, 0, 0, -1, 0, 0, 0, 0, 0, -1, 1, 0], #flow in/out of I\n",
    "               [0, 0, 0, 0, 0, 0, 0, 0, 0, 0, 0, 0, 0, 0, 0, -1, 1], #flow in/out of J\n",
    "               [0, 0, 0, 0, 0, 0, 0, 0, 0, 0, 0, 0, 0, 0, 0, 0, 0]] #flow in target\n",
    "\n",
    "rhs_balance = np.zeros(12) #flow out of each note must equal flow into eahc node (see above for explanation for source/target)."
   ]
  },
  {
   "cell_type": "code",
   "execution_count": 9,
   "metadata": {},
   "outputs": [],
   "source": [
    "#Create bounds for each variable\n",
    "bnd = [(0, float(\"inf\")), #bounds of s\n",
    "       (0, float(\"inf\")), #bounds of A\n",
    "       (0, float(\"inf\")), #bounds of B\n",
    "       (0, float(\"inf\")), #bounds of C\n",
    "       (0, float(\"inf\")), #bounds of D\n",
    "       (0, float(\"inf\")), #bounds of E\n",
    "       (0, float(\"inf\")), #bounds of F\n",
    "       (0, float(\"inf\")), #bounds of G\n",
    "       (0, float(\"inf\")), #bounds of H\n",
    "       (0, float(\"inf\")), #bounds of I\n",
    "       (0, float(\"inf\")), #bounds of J\n",
    "       (0, float(\"inf\"))] #bounds of t"
   ]
  },
  {
   "cell_type": "markdown",
   "metadata": {},
   "source": [
    "Use linprog to find our optimal solution. <br>\n",
    "* c: objective function <br>\n",
    "* A_ub: LHS of constraints that have inequalities. Should be matrix w/ nrows=number of constraints, ncols=number of variables. <br>\n",
    "* b_ub: RHS of constraints that have inequalities. Should be vector w/ as many entries as there are constraints. <br>\n",
    "* A_eq: LHS of constraints that have equalities. Should be matrix w/ nrows=number of constraints, ncols=number of variables. <br>\n",
    "* b_eq: RHS of constraints that have equalities. Should be vector w/ as many entries as there are constraints. <br>"
   ]
  },
  {
   "cell_type": "code",
   "execution_count": 10,
   "metadata": {},
   "outputs": [
    {
     "name": "stderr",
     "output_type": "stream",
     "text": [
      "/var/folders/3h/6frnxss502n097jxqmmf66l00000gn/T/ipykernel_52298/4143925119.py:1: OptimizeWarning: A_eq does not appear to be of full row rank. To improve performance, check the problem formulation for redundant equality constraints.\n",
      "  opt = linprog(c=obj, A_ub=lhs_capacity, b_ub=rhs_capacity, A_eq=lhs_balance, b_eq=rhs_balance, method=\"revised simplex\")\n"
     ]
    },
    {
     "data": {
      "text/plain": [
       "     con: array([0., 0., 0., 0., 0., 0., 0., 0., 0., 0., 0., 0.])\n",
       "     fun: -6.0\n",
       " message: 'Optimization terminated successfully.'\n",
       "     nit: 15\n",
       "   slack: array([0., 0., 2., 1., 1., 0., 2., 2., 4., 0., 4., 1., 1., 0., 3., 2., 0.])\n",
       "  status: 0\n",
       " success: True\n",
       "       x: array([3., 3., 2., 1., 1., 2., 1., 2., 1., 3., 0., 3., 2., 5., 0., 1., 1.])"
      ]
     },
     "execution_count": 10,
     "metadata": {},
     "output_type": "execute_result"
    }
   ],
   "source": [
    "opt = linprog(c=obj, A_ub=lhs_capacity, b_ub=rhs_capacity, A_eq=lhs_balance, b_eq=rhs_balance, method=\"revised simplex\")\n",
    "opt"
   ]
  },
  {
   "cell_type": "markdown",
   "metadata": {},
   "source": [
    "This not only tells us our optimal solution, but we also get some extra helpful and fun information.\n",
    "\n",
    "* fun: gives us the optimal solution. Here, we see that the maximum flow is 6 (recall that we had to turn our \"maximize\" into a \"minimize\"). <br>\n",
    "* nit: gives us the number of iterations used to solve this problem... Here, we needed 15. <br>\n",
    "* x: tells us the flow on each edge that will produce our maximum flow. "
   ]
  },
  {
   "cell_type": "markdown",
   "metadata": {},
   "source": [
    "Now, let's use the output 'x' above to find the paths and weights that obtain the maximal flow."
   ]
  },
  {
   "cell_type": "code",
   "execution_count": 23,
   "metadata": {},
   "outputs": [
    {
     "name": "stdout",
     "output_type": "stream",
     "text": [
      "[['e_sA' '3.0']\n",
      " ['e_sB' '3.0']\n",
      " ['e_AC' '2.0']\n",
      " ['e_AD' '1.0']\n",
      " ['e_BC' '1.0']\n",
      " ['e_BE' '2.0']\n",
      " ['e_CE' '1.0']\n",
      " ['e_CG' '2.0']\n",
      " ['e_DI' '1.0']\n",
      " ['e_EF' '3.0']\n",
      " ['e_EG' '0.0']\n",
      " ['e_FH' '3.0']\n",
      " ['e_GH' '2.0']\n",
      " ['e_Ht' '5.0']\n",
      " ['e_GI' '0.0']\n",
      " ['e_IJ' '1.0']\n",
      " ['e_Jt' '1.0']]\n"
     ]
    }
   ],
   "source": [
    "x = opt['x']\n",
    "# len(x)\n",
    "optimal_flow = np.column_stack([labs, x])\n",
    "print(optimal_flow)"
   ]
  }
 ],
 "metadata": {
  "kernelspec": {
   "display_name": "Python 3.10.4 64-bit",
   "language": "python",
   "name": "python3"
  },
  "language_info": {
   "codemirror_mode": {
    "name": "ipython",
    "version": 3
   },
   "file_extension": ".py",
   "mimetype": "text/x-python",
   "name": "python",
   "nbconvert_exporter": "python",
   "pygments_lexer": "ipython3",
   "version": "3.10.4"
  },
  "orig_nbformat": 4,
  "vscode": {
   "interpreter": {
    "hash": "aee8b7b246df8f9039afb4144a1f6fd8d2ca17a180786b69acc140d282b71a49"
   }
  }
 },
 "nbformat": 4,
 "nbformat_minor": 2
}
